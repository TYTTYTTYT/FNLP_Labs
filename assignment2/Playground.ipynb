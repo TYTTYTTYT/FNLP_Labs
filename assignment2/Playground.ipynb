{
 "cells": [
  {
   "cell_type": "code",
   "execution_count": 1,
   "metadata": {},
   "outputs": [],
   "source": [
    "import template\n",
    "from importlib import reload"
   ]
  },
  {
   "cell_type": "code",
   "execution_count": 60,
   "metadata": {},
   "outputs": [],
   "source": [
    "reload(template)\n",
    "from template import *"
   ]
  },
  {
   "cell_type": "code",
   "execution_count": 3,
   "metadata": {},
   "outputs": [],
   "source": [
    "train_data = brown.tagged_sents(categories='news', tagset='universal')[:-500]\n",
    "test_data = brown.tagged_sents(categories='news', tagset='universal')[-500:]"
   ]
  },
  {
   "cell_type": "code",
   "execution_count": 58,
   "metadata": {},
   "outputs": [],
   "source": [
    "model = HMM(train_data, test_data)\n",
    "model.train()"
   ]
  },
  {
   "cell_type": "code",
   "execution_count": 33,
   "metadata": {},
   "outputs": [
    {
     "data": {
      "text/plain": [
       "-4.316471419619332"
      ]
     },
     "execution_count": 33,
     "metadata": {},
     "output_type": "execute_result"
    }
   ],
   "source": [
    "model.elprob('VERB', 'is')"
   ]
  },
  {
   "cell_type": "code",
   "execution_count": 48,
   "metadata": {},
   "outputs": [],
   "source": [
    "model.initialise('awerm')\n",
    "t = model.tag(['www', 'asfdasfd', 'asdf'])"
   ]
  },
  {
   "cell_type": "code",
   "execution_count": 7,
   "metadata": {},
   "outputs": [
    {
     "data": {
      "text/plain": [
       "['X', 'X', 'X', '.']"
      ]
     },
     "execution_count": 7,
     "metadata": {},
     "output_type": "execute_result"
    }
   ],
   "source": [
    "t"
   ]
  },
  {
   "cell_type": "code",
   "execution_count": 61,
   "metadata": {
    "scrolled": false
   },
   "outputs": [
    {
     "name": "stdout",
     "output_type": "stream",
     "text": [
      "states: ['DET', 'NOUN', 'ADJ', 'VERB', 'ADP', '.', 'ADV', 'CONJ', 'PRT', 'PRON', 'NUM', 'X']\n",
      "\n"
     ]
    },
    {
     "ename": "ValueError",
     "evalue": "66.90224325721928 is not in list",
     "output_type": "error",
     "traceback": [
      "\u001b[0;31m---------------------------------------------------------------------------\u001b[0m",
      "\u001b[0;31mValueError\u001b[0m                                Traceback (most recent call last)",
      "\u001b[0;32m<ipython-input-61-feb2071ee46d>\u001b[0m in \u001b[0;36m<module>\u001b[0;34m\u001b[0m\n\u001b[0;32m----> 1\u001b[0;31m \u001b[0manswers\u001b[0m\u001b[0;34m(\u001b[0m\u001b[0;34m)\u001b[0m\u001b[0;34m\u001b[0m\u001b[0;34m\u001b[0m\u001b[0m\n\u001b[0m",
      "\u001b[0;32m~/fnlp/lab_cw/assignment2/template.py\u001b[0m in \u001b[0;36manswers\u001b[0;34m()\u001b[0m\n\u001b[1;32m    400\u001b[0m     \u001b[0ms\u001b[0m\u001b[0;34m=\u001b[0m\u001b[0;34m'the cat in the hat came back'\u001b[0m\u001b[0;34m.\u001b[0m\u001b[0msplit\u001b[0m\u001b[0;34m(\u001b[0m\u001b[0;34m)\u001b[0m\u001b[0;34m\u001b[0m\u001b[0;34m\u001b[0m\u001b[0m\n\u001b[1;32m    401\u001b[0m     \u001b[0mmodel\u001b[0m\u001b[0;34m.\u001b[0m\u001b[0minitialise\u001b[0m\u001b[0;34m(\u001b[0m\u001b[0ms\u001b[0m\u001b[0;34m[\u001b[0m\u001b[0;36m0\u001b[0m\u001b[0;34m]\u001b[0m\u001b[0;34m)\u001b[0m\u001b[0;34m\u001b[0m\u001b[0;34m\u001b[0m\u001b[0m\n\u001b[0;32m--> 402\u001b[0;31m     \u001b[0mttags\u001b[0m \u001b[0;34m=\u001b[0m \u001b[0mmodel\u001b[0m\u001b[0;34m.\u001b[0m\u001b[0mtag\u001b[0m\u001b[0;34m(\u001b[0m\u001b[0ms\u001b[0m\u001b[0;34m[\u001b[0m\u001b[0;36m1\u001b[0m\u001b[0;34m:\u001b[0m\u001b[0;34m]\u001b[0m\u001b[0;34m)\u001b[0m\u001b[0;34m\u001b[0m\u001b[0;34m\u001b[0m\u001b[0m\n\u001b[0m\u001b[1;32m    403\u001b[0m     \u001b[0mprint\u001b[0m\u001b[0;34m(\u001b[0m\u001b[0;34m\"Tagged a trial sentence:\\n  %s\"\u001b[0m\u001b[0;34m%\u001b[0m\u001b[0mlist\u001b[0m\u001b[0;34m(\u001b[0m\u001b[0mzip\u001b[0m\u001b[0;34m(\u001b[0m\u001b[0ms\u001b[0m\u001b[0;34m,\u001b[0m\u001b[0mttags\u001b[0m\u001b[0;34m)\u001b[0m\u001b[0;34m)\u001b[0m\u001b[0;34m)\u001b[0m\u001b[0;34m\u001b[0m\u001b[0;34m\u001b[0m\u001b[0m\n\u001b[1;32m    404\u001b[0m \u001b[0;34m\u001b[0m\u001b[0m\n",
      "\u001b[0;32m~/fnlp/lab_cw/assignment2/template.py\u001b[0m in \u001b[0;36mtag\u001b[0;34m(self, observations)\u001b[0m\n\u001b[1;32m    247\u001b[0m         \u001b[0;31m# The order should match that of the words in the sentence.\u001b[0m\u001b[0;34m\u001b[0m\u001b[0;34m\u001b[0m\u001b[0;34m\u001b[0m\u001b[0m\n\u001b[1;32m    248\u001b[0m         \u001b[0mstep\u001b[0m \u001b[0;34m+=\u001b[0m \u001b[0;36m1\u001b[0m\u001b[0;34m\u001b[0m\u001b[0;34m\u001b[0m\u001b[0m\n\u001b[0;32m--> 249\u001b[0;31m         \u001b[0mbackpointer\u001b[0m \u001b[0;34m=\u001b[0m \u001b[0mself\u001b[0m\u001b[0;34m.\u001b[0m\u001b[0mstates\u001b[0m\u001b[0;34m[\u001b[0m\u001b[0mself\u001b[0m\u001b[0;34m.\u001b[0m\u001b[0mviterbi\u001b[0m\u001b[0;34m.\u001b[0m\u001b[0mindex\u001b[0m\u001b[0;34m(\u001b[0m\u001b[0mmin\u001b[0m\u001b[0;34m(\u001b[0m\u001b[0mself\u001b[0m\u001b[0;34m.\u001b[0m\u001b[0mviterbi\u001b[0m\u001b[0;34m[\u001b[0m\u001b[0;34m-\u001b[0m\u001b[0;36m1\u001b[0m\u001b[0;34m]\u001b[0m\u001b[0;34m)\u001b[0m\u001b[0;34m)\u001b[0m\u001b[0;34m]\u001b[0m\u001b[0;34m\u001b[0m\u001b[0;34m\u001b[0m\u001b[0m\n\u001b[0m\u001b[1;32m    250\u001b[0m         \u001b[0;32mwhile\u001b[0m \u001b[0mbackpointer\u001b[0m \u001b[0;34m!=\u001b[0m \u001b[0;34m'<s>'\u001b[0m\u001b[0;34m:\u001b[0m\u001b[0;34m\u001b[0m\u001b[0;34m\u001b[0m\u001b[0m\n\u001b[1;32m    251\u001b[0m             \u001b[0mstep\u001b[0m \u001b[0;34m-=\u001b[0m \u001b[0;36m1\u001b[0m\u001b[0;34m\u001b[0m\u001b[0;34m\u001b[0m\u001b[0m\n",
      "\u001b[0;31mValueError\u001b[0m: 66.90224325721928 is not in list"
     ]
    }
   ],
   "source": [
    "answers()"
   ]
  },
  {
   "cell_type": "code",
   "execution_count": 52,
   "metadata": {},
   "outputs": [
    {
     "data": {
      "text/plain": [
       "['DET', 'NOUN', 'ADP', 'DET', 'NOUN', 'VERB', '.']"
      ]
     },
     "execution_count": 52,
     "metadata": {},
     "output_type": "execute_result"
    }
   ],
   "source": [
    "model.initialise('the')\n",
    "model.tag(['cat','in','the','hat', 'came', 'bcak'])"
   ]
  },
  {
   "cell_type": "code",
   "execution_count": 50,
   "metadata": {},
   "outputs": [],
   "source": [
    "model.initialise('attack')"
   ]
  },
  {
   "cell_type": "code",
   "execution_count": 53,
   "metadata": {
    "scrolled": true
   },
   "outputs": [
    {
     "data": {
      "text/plain": [
       "[[2.883960495502161,\n",
       "  23.284441789896356,\n",
       "  23.857036721737963,\n",
       "  25.02681208150389,\n",
       "  23.515654098519164,\n",
       "  23.46030363527954,\n",
       "  22.373836285910734,\n",
       "  22.74800532089573,\n",
       "  22.83310969563389,\n",
       "  21.17357777534607,\n",
       "  23.44272282572672,\n",
       "  23.741687440008114],\n",
       " [30.50694868384696,\n",
       "  24.918251373594813,\n",
       "  24.149495044678684,\n",
       "  27.406916451337686,\n",
       "  29.92014752622385,\n",
       "  29.571491066064446,\n",
       "  27.292475768969584,\n",
       "  33.06652603661989,\n",
       "  29.699177685354798,\n",
       "  28.200106762653082,\n",
       "  26.156610626119736,\n",
       "  25.93314324833884],\n",
       " [49.825468421659565,\n",
       "  46.04991623780528,\n",
       "  47.30815686952771,\n",
       "  48.10280401076996,\n",
       "  29.810308810278283,\n",
       "  46.946245437411264,\n",
       "  48.70406039991616,\n",
       "  47.17725634727182,\n",
       "  35.66580075903011,\n",
       "  49.12031246999632,\n",
       "  47.393084026633446,\n",
       "  39.51314204030376],\n",
       " [31.813115640026346,\n",
       "  52.92949906842151,\n",
       "  52.72820840930012,\n",
       "  54.830928944016065,\n",
       "  55.73321551170622,\n",
       "  56.76045652149486,\n",
       "  54.537609814836564,\n",
       "  57.522915930458325,\n",
       "  54.252840096633975,\n",
       "  52.52519422825348,\n",
       "  51.46313304061708,\n",
       "  53.09314083226869],\n",
       " [59.436103828371145,\n",
       "  46.196354826940066,\n",
       "  53.07865018920287,\n",
       "  56.33607159586187,\n",
       "  58.84930267074803,\n",
       "  58.50064621058863,\n",
       "  56.22163091349377,\n",
       "  61.99568118114408,\n",
       "  58.628332829878985,\n",
       "  57.129261907177266,\n",
       "  55.08576577064392,\n",
       "  54.862298392863025],\n",
       " [72.50693682456273,\n",
       "  69.51586638328013,\n",
       "  71.24028514397646,\n",
       "  57.41476255076961,\n",
       "  68.50624006107181,\n",
       "  68.22434889075652,\n",
       "  69.98216385326141,\n",
       "  68.45535980061707,\n",
       "  69.71243445837892,\n",
       "  70.39841592334157,\n",
       "  70.35483821843006,\n",
       "  68.44229718482795],\n",
       " [79.8333145210915,\n",
       "  81.78915380479152,\n",
       "  80.94302933323664,\n",
       "  79.996847628268,\n",
       "  80.00449835724015,\n",
       "  81.39795341911653,\n",
       "  79.37924254335235,\n",
       "  81.99695246641663,\n",
       "  78.93908894998239,\n",
       "  80.17867105088409,\n",
       "  80.83075308864028,\n",
       "  82.02229597679288],\n",
       " [82.84885874434825,\n",
       "  82.84885874434825,\n",
       "  82.84885874434825,\n",
       "  82.84885874434825,\n",
       "  82.84885874434825,\n",
       "  82.84885874434825,\n",
       "  82.84885874434825,\n",
       "  82.84885874434825,\n",
       "  82.84885874434825,\n",
       "  82.84885874434825,\n",
       "  82.84885874434825,\n",
       "  82.84885874434825]]"
      ]
     },
     "execution_count": 53,
     "metadata": {},
     "output_type": "execute_result"
    }
   ],
   "source": [
    "model.viterbi"
   ]
  },
  {
   "cell_type": "code",
   "execution_count": 54,
   "metadata": {},
   "outputs": [
    {
     "data": {
      "text/plain": [
       "82.84885874434825"
      ]
     },
     "execution_count": 54,
     "metadata": {},
     "output_type": "execute_result"
    }
   ],
   "source": [
    "model.get_viterbi_value('.', 7)"
   ]
  },
  {
   "cell_type": "code",
   "execution_count": 30,
   "metadata": {},
   "outputs": [
    {
     "data": {
      "text/plain": [
       "-16.793195903768698"
      ]
     },
     "execution_count": 30,
     "metadata": {},
     "output_type": "execute_result"
    }
   ],
   "source": [
    "model.tlprob('<s>', 'VERB') + model.elprob('VERB', 'attack')"
   ]
  },
  {
   "cell_type": "code",
   "execution_count": 44,
   "metadata": {},
   "outputs": [
    {
     "data": {
      "text/plain": [
       "['DET',\n",
       " 'NOUN',\n",
       " 'ADJ',\n",
       " 'VERB',\n",
       " 'ADP',\n",
       " '.',\n",
       " 'ADV',\n",
       " 'CONJ',\n",
       " 'PRT',\n",
       " 'PRON',\n",
       " 'NUM',\n",
       " 'X']"
      ]
     },
     "execution_count": 44,
     "metadata": {},
     "output_type": "execute_result"
    }
   ],
   "source": [
    "model.states"
   ]
  },
  {
   "cell_type": "code",
   "execution_count": 56,
   "metadata": {},
   "outputs": [
    {
     "data": {
      "text/plain": [
       "list"
      ]
     },
     "execution_count": 56,
     "metadata": {},
     "output_type": "execute_result"
    }
   ],
   "source": [
    "type(list(range(3)))"
   ]
  },
  {
   "cell_type": "code",
   "execution_count": null,
   "metadata": {},
   "outputs": [],
   "source": []
  }
 ],
 "metadata": {
  "kernelspec": {
   "display_name": "Python 3",
   "language": "python",
   "name": "python3"
  },
  "language_info": {
   "codemirror_mode": {
    "name": "ipython",
    "version": 3
   },
   "file_extension": ".py",
   "mimetype": "text/x-python",
   "name": "python",
   "nbconvert_exporter": "python",
   "pygments_lexer": "ipython3",
   "version": "3.6.8"
  }
 },
 "nbformat": 4,
 "nbformat_minor": 2
}
