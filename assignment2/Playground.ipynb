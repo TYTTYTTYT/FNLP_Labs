{
 "cells": [
  {
   "cell_type": "code",
   "execution_count": 15,
   "metadata": {},
   "outputs": [],
   "source": [
    "import template\n",
    "from importlib import reload"
   ]
  },
  {
   "cell_type": "code",
   "execution_count": 149,
   "metadata": {},
   "outputs": [],
   "source": [
    "reload(template)\n",
    "from template import *"
   ]
  },
  {
   "cell_type": "code",
   "execution_count": 58,
   "metadata": {},
   "outputs": [],
   "source": [
    "train_data = brown.tagged_sents(categories='news', tagset='universal')[:-500]\n",
    "test_data = brown.tagged_sents(categories='news', tagset='universal')[-500:]"
   ]
  },
  {
   "cell_type": "code",
   "execution_count": 129,
   "metadata": {},
   "outputs": [],
   "source": [
    "model = HMM(train_data, test_data)\n",
    "model.train()"
   ]
  },
  {
   "cell_type": "code",
   "execution_count": 102,
   "metadata": {},
   "outputs": [
    {
     "data": {
      "text/plain": [
       "-4.316470297030061"
      ]
     },
     "execution_count": 102,
     "metadata": {},
     "output_type": "execute_result"
    }
   ],
   "source": [
    "model.elprob('VERB', 'is')"
   ]
  },
  {
   "cell_type": "code",
   "execution_count": 119,
   "metadata": {},
   "outputs": [
    {
     "name": "stdout",
     "output_type": "stream",
     "text": [
      "3\n",
      "['.', 'X', 'X', 'X']\n"
     ]
    }
   ],
   "source": [
    "model.initialise('awerm')\n",
    "t = model.tag(['www', 'asfdasfd', 'asdf'])"
   ]
  },
  {
   "cell_type": "code",
   "execution_count": 120,
   "metadata": {},
   "outputs": [
    {
     "data": {
      "text/plain": [
       "['X', 'X', 'X', '.']"
      ]
     },
     "execution_count": 120,
     "metadata": {},
     "output_type": "execute_result"
    }
   ],
   "source": [
    "t"
   ]
  },
  {
   "cell_type": "code",
   "execution_count": 150,
   "metadata": {
    "scrolled": false
   },
   "outputs": [
    {
     "name": "stdout",
     "output_type": "stream",
     "text": [
      "states: ['DET', 'NOUN', 'ADJ', 'VERB', 'ADP', '.', 'ADV', 'CONJ', 'PRT', 'PRON', 'NUM', 'X']\n",
      "\n",
      "Tagged a trial sentence:\n",
      "  [('the', 'DET'), ('cat', 'NOUN'), ('in', 'ADP'), ('the', 'DET'), ('hat', 'NOUN'), ('came', 'VERB'), ('back', 'ADV')]\n",
      "[[('Tooling', 'VERB'), ('through', 'ADP'), ('Sydney', 'NOUN'), ('on', 'ADP'), ('his', 'DET'), ('way', 'NOUN'), ('to', 'PRT'), ('race', 'VERB'), ('in', 'ADP'), ('the', 'DET'), ('New', 'ADJ'), ('Zealand', 'NOUN'), ('Grand', 'X'), ('Prix', 'X'), (',', '.'), (\"Britain's\", 'NOUN'), ('balding', 'ADJ'), ('Ace', 'NOUN'), ('Driver', 'NOUN'), ('Stirling', 'NOUN'), ('Moss', 'NOUN'), (',', '.'), ('31', 'NUM'), (',', '.'), ('all', 'PRT'), ('but', 'ADP'), ('smothered', 'VERB'), ('himself', 'PRON'), ('in', 'ADP'), ('his', 'DET'), ('own', 'ADJ'), ('exhaust', 'NOUN'), ('of', 'ADP'), ('self-crimination', 'NOUN'), ('.', '.')], [('``', '.'), ('My', 'DET'), ('taste', 'NOUN'), ('is', 'VERB'), ('gaudy', 'ADJ'), ('.', '.')], [(\"I'm\", 'PRT'), ('useless', 'ADJ'), ('for', 'ADP'), ('anything', 'NOUN'), ('but', 'ADP'), ('racing', 'VERB'), ('cars', 'NOUN'), ('.', '.')], [(\"I'm\", 'PRT'), ('ruddy', 'ADV'), ('lazy', 'ADJ'), (',', '.'), ('and', 'CONJ'), (\"I'm\", 'PRT'), ('getting', 'VERB'), ('on', 'PRT'), ('in', 'ADP'), ('years', 'NOUN'), ('.', '.')], [('It', 'PRON'), ('gets', 'VERB'), ('so', 'ADV'), ('frustrating', 'ADJ'), (',', '.'), ('but', 'CONJ'), ('then', 'ADV'), ('again', 'ADV'), ('I', 'PRON'), (\"don't\", 'VERB'), ('know', 'VERB'), ('what', 'DET'), ('I', 'PRON'), ('could', 'VERB'), ('do', 'VERB'), ('if', 'ADP'), ('I', 'PRON'), ('gave', 'VERB'), ('up', 'PRT'), ('racing', 'VERB'), (\"''\", '.'), ('.', '.')], [('Has', 'VERB'), ('Moss', 'NOUN'), ('no', 'DET'), ('stirling', 'ADJ'), ('virtues', 'NOUN'), ('?', '.'), ('?', '.')], [('One', 'NUM'), ('of', 'ADP'), ('Nikita', 'NOUN'), (\"Khrushchev's\", 'NOUN'), ('most', 'ADV'), ('enthusiastic', 'ADJ'), ('eulogizers', 'NOUN'), (',', '.'), ('the', 'DET'), (\"U.S.S.R.'s\", 'NOUN'), ('daily', 'ADJ'), ('Izvestia', 'NOUN'), (',', '.'), ('enterprisingly', 'ADV'), ('interviewed', 'VERB'), ('Red-prone', 'ADJ'), ('Comedian', 'NOUN'), ('Charlie', 'NOUN'), ('Chaplin', 'NOUN'), ('at', 'ADP'), ('his', 'DET'), ('Swiss', 'ADJ'), ('villa', 'NOUN'), (',', '.'), ('where', 'ADV'), ('he', 'PRON'), ('has', 'VERB'), ('been', 'VERB'), ('in', 'ADP'), ('self-exile', 'NOUN'), ('since', 'ADP'), ('1952', 'NUM'), ('.', '.')], [('Chaplin', 'NOUN'), (',', '.'), ('71', 'NUM'), (',', '.'), ('who', 'PRON'), ('met', 'VERB'), ('K.', 'NOUN'), ('when', 'ADV'), ('the', 'DET'), ('Soviet', 'NOUN'), ('boss', 'NOUN'), ('visited', 'VERB'), ('England', 'NOUN'), ('in', 'ADP'), ('1956', 'NUM'), (',', '.'), ('confided', 'VERB'), ('that', 'ADP'), ('he', 'PRON'), ('hopes', 'VERB'), ('to', 'PRT'), ('visit', 'VERB'), ('Russia', 'NOUN'), ('some', 'DET'), ('time', 'NOUN'), ('this', 'DET'), ('summer', 'NOUN'), ('because', 'ADP'), ('``', '.'), ('I', 'PRON'), ('have', 'VERB'), ('marveled', 'VERB'), ('at', 'ADP'), ('your', 'DET'), ('grandiose', 'ADJ'), ('experiment', 'NOUN'), ('and', 'CONJ'), ('I', 'PRON'), ('believe', 'VERB'), ('in', 'ADP'), ('your', 'DET'), ('future', 'NOUN'), (\"''\", '.'), ('.', '.')], [('Then', 'ADJ'), ('Charlie', 'NOUN'), ('spooned', 'VERB'), ('out', 'PRT'), ('some', 'DET'), ('quick', 'ADJ'), ('impressions', 'NOUN'), ('of', 'ADP'), ('the', 'DET'), ('Nikita', 'NOUN'), ('he', 'PRON'), ('had', 'VERB'), ('glimpsed', 'VERB'), (':', '.'), ('``', '.'), ('I', 'PRON'), ('was', 'VERB'), ('captivated', 'VERB'), ('by', 'ADP'), ('his', 'DET'), ('humor', 'NOUN'), (',', '.'), ('frankness', 'NOUN'), ('and', 'CONJ'), ('good', 'ADJ'), ('nature', 'NOUN'), ('and', 'CONJ'), ('by', 'ADP'), ('his', 'DET'), ('kind', 'ADJ'), (',', '.'), ('strong', 'ADJ'), ('and', 'CONJ'), ('somewhat', 'ADV'), ('sly', 'ADJ'), ('face', 'NOUN'), (\"''\", '.'), ('.', '.')], [('G.', 'NOUN'), ('David', 'NOUN'), ('Thompson', 'NOUN'), ('is', 'VERB'), ('one', 'NUM'), ('of', 'ADP'), ('those', 'DET'), ('names', 'NOUN'), ('known', 'VERB'), ('to', 'ADP'), ('the', 'DET'), ('stewards', 'NOUN'), ('of', 'ADP'), ('transatlantic', 'ADJ'), ('jetliners', 'NOUN'), ('and', 'CONJ'), ('to', 'ADP'), ('doormen', 'NOUN'), ('in', 'ADP'), (\"Europe's\", 'NOUN'), ('best', 'ADJ'), ('hotels', 'NOUN'), (',', '.'), ('but', 'CONJ'), ('he', 'PRON'), ('is', 'VERB'), ('somewhat', 'ADV'), ('of', 'ADP'), ('an', 'DET'), ('enigma', 'NOUN'), ('to', 'ADP'), ('most', 'ADJ'), ('people', 'NOUN'), ('in', 'ADP'), ('his', 'DET'), ('own', 'ADJ'), ('home', 'NOUN'), ('town', 'NOUN'), ('of', 'ADP'), ('Pittsburgh', 'NOUN'), ('.', '.')]]\n",
      "[[('Tooling', 'X'), ('through', 'ADP'), ('Sydney', 'NOUN'), ('on', 'ADP'), ('his', 'DET'), ('way', 'NOUN'), ('to', 'ADP'), ('race', 'NOUN'), ('in', 'ADP'), ('the', 'DET'), ('New', 'ADJ'), ('Zealand', 'X'), ('Grand', 'X'), ('Prix', 'X'), (',', '.'), (\"Britain's\", 'X'), ('balding', 'X'), ('Ace', 'X'), ('Driver', 'X'), ('Stirling', 'X'), ('Moss', 'X'), (',', '.'), ('31', 'NUM'), (',', '.'), ('all', 'PRT'), ('but', 'CONJ'), ('smothered', 'ADV'), ('himself', 'PRON'), ('in', 'ADP'), ('his', 'DET'), ('own', 'ADJ'), ('exhaust', 'NOUN'), ('of', 'ADP'), ('self-crimination', 'NUM'), ('.', '.')], [('``', '.'), ('My', 'DET'), ('taste', 'NOUN'), ('is', 'VERB'), ('gaudy', 'ADV'), ('.', '.')], [(\"I'm\", 'PRT'), ('useless', 'ADJ'), ('for', 'ADP'), ('anything', 'NOUN'), ('but', 'CONJ'), ('racing', 'ADJ'), ('cars', 'NOUN'), ('.', '.')], [(\"I'm\", 'X'), ('ruddy', 'X'), ('lazy', 'X'), (',', '.'), ('and', 'CONJ'), (\"I'm\", 'PRT'), ('getting', 'VERB'), ('on', 'ADP'), ('in', 'ADP'), ('years', 'NOUN'), ('.', '.')], [('It', 'PRON'), ('gets', 'VERB'), ('so', 'ADV'), ('frustrating', 'ADV'), (',', '.'), ('but', 'CONJ'), ('then', 'ADV'), ('again', 'ADV'), ('I', 'PRON'), (\"don't\", 'VERB'), ('know', 'VERB'), ('what', 'DET'), ('I', 'PRON'), ('could', 'VERB'), ('do', 'VERB'), ('if', 'ADP'), ('I', 'PRON'), ('gave', 'VERB'), ('up', 'PRT'), ('racing', 'VERB'), (\"''\", '.'), ('.', '.')], [('Has', 'X'), ('Moss', 'X'), ('no', 'X'), ('stirling', 'X'), ('virtues', 'X'), ('?', '.'), ('?', '.')], [('One', 'NUM'), ('of', 'ADP'), ('Nikita', 'X'), (\"Khrushchev's\", 'X'), ('most', 'X'), ('enthusiastic', 'X'), ('eulogizers', 'X'), (',', '.'), ('the', 'DET'), (\"U.S.S.R.'s\", 'X'), ('daily', 'X'), ('Izvestia', 'X'), (',', '.'), ('enterprisingly', 'X'), ('interviewed', 'X'), ('Red-prone', 'X'), ('Comedian', 'X'), ('Charlie', 'X'), ('Chaplin', 'X'), ('at', 'ADP'), ('his', 'DET'), ('Swiss', 'ADJ'), ('villa', 'NOUN'), (',', '.'), ('where', 'ADV'), ('he', 'PRON'), ('has', 'VERB'), ('been', 'VERB'), ('in', 'ADP'), ('self-exile', 'X'), ('since', 'X'), ('1952', 'X'), ('.', '.')], [('Chaplin', 'X'), (',', '.'), ('71', 'NUM'), (',', '.'), ('who', 'PRON'), ('met', 'VERB'), ('K.', 'NOUN'), ('when', 'ADV'), ('the', 'DET'), ('Soviet', 'NOUN'), ('boss', 'NOUN'), ('visited', 'VERB'), ('England', 'NOUN'), ('in', 'ADP'), ('1956', 'NUM'), (',', '.'), ('confided', 'ADV'), ('that', 'ADP'), ('he', 'PRON'), ('hopes', 'VERB'), ('to', 'PRT'), ('visit', 'VERB'), ('Russia', 'NOUN'), ('some', 'DET'), ('time', 'NOUN'), ('this', 'DET'), ('summer', 'NOUN'), ('because', 'ADV'), ('``', '.'), ('I', 'PRON'), ('have', 'VERB'), ('marveled', 'ADV'), ('at', 'ADP'), ('your', 'DET'), ('grandiose', 'ADJ'), ('experiment', 'NOUN'), ('and', 'CONJ'), ('I', 'PRON'), ('believe', 'VERB'), ('in', 'ADP'), ('your', 'DET'), ('future', 'NOUN'), (\"''\", '.'), ('.', '.')], [('Then', 'X'), ('Charlie', 'X'), ('spooned', 'X'), ('out', 'PRT'), ('some', 'DET'), ('quick', 'ADJ'), ('impressions', 'NOUN'), ('of', 'ADP'), ('the', 'DET'), ('Nikita', 'NOUN'), ('he', 'PRON'), ('had', 'VERB'), ('glimpsed', 'ADV'), (':', '.'), ('``', '.'), ('I', 'PRON'), ('was', 'VERB'), ('captivated', 'ADV'), ('by', 'ADP'), ('his', 'DET'), ('humor', 'NOUN'), (',', '.'), ('frankness', 'NOUN'), ('and', 'CONJ'), ('good', 'ADJ'), ('nature', 'NOUN'), ('and', 'CONJ'), ('by', 'ADP'), ('his', 'DET'), ('kind', 'NOUN'), (',', '.'), ('strong', 'ADJ'), ('and', 'CONJ'), ('somewhat', 'ADV'), ('sly', 'ADJ'), ('face', 'NOUN'), (\"''\", '.'), ('.', '.')], [('G.', 'NOUN'), ('David', 'NOUN'), ('Thompson', 'NOUN'), ('is', 'VERB'), ('one', 'NUM'), ('of', 'ADP'), ('those', 'DET'), ('names', 'NOUN'), ('known', 'VERB'), ('to', 'ADP'), ('the', 'DET'), ('stewards', 'NOUN'), ('of', 'ADP'), ('transatlantic', 'DET'), ('jetliners', 'NOUN'), ('and', 'CONJ'), ('to', 'ADP'), ('doormen', 'NOUN'), ('in', 'ADP'), (\"Europe's\", 'DET'), ('best', 'ADJ'), ('hotels', 'NOUN'), (',', '.'), ('but', 'CONJ'), ('he', 'PRON'), ('is', 'VERB'), ('somewhat', 'ADV'), ('of', 'ADP'), ('an', 'DET'), ('enigma', 'NOUN'), ('to', 'ADP'), ('most', 'ADJ'), ('people', 'NOUN'), ('in', 'ADP'), ('his', 'DET'), ('own', 'ADJ'), ('home', 'NOUN'), ('town', 'NOUN'), ('of', 'ADP'), ('Pittsburgh', 'NOUN'), ('.', '.')]]\n",
      "Tagging accuracy for test set of 500 sentences: 0.8566\n",
      "\n",
      "A tagged-by-your-model version of a sentence:\n",
      "[[('Tooling', 'X'), ('through', 'ADP'), ('Sydney', 'NOUN'), ('on', 'ADP'), ('his', 'DET'), ('way', 'NOUN'), ('to', 'ADP'), ('race', 'NOUN'), ('in', 'ADP'), ('the', 'DET'), ('New', 'ADJ'), ('Zealand', 'X'), ('Grand', 'X'), ('Prix', 'X'), (',', '.'), (\"Britain's\", 'X'), ('balding', 'X'), ('Ace', 'X'), ('Driver', 'X'), ('Stirling', 'X'), ('Moss', 'X'), (',', '.'), ('31', 'NUM'), (',', '.'), ('all', 'PRT'), ('but', 'CONJ'), ('smothered', 'ADV'), ('himself', 'PRON'), ('in', 'ADP'), ('his', 'DET'), ('own', 'ADJ'), ('exhaust', 'NOUN'), ('of', 'ADP'), ('self-crimination', 'NUM'), ('.', '.')], [('``', '.'), ('My', 'DET'), ('taste', 'NOUN'), ('is', 'VERB'), ('gaudy', 'ADV'), ('.', '.')], [(\"I'm\", 'PRT'), ('useless', 'ADJ'), ('for', 'ADP'), ('anything', 'NOUN'), ('but', 'CONJ'), ('racing', 'ADJ'), ('cars', 'NOUN'), ('.', '.')], [(\"I'm\", 'X'), ('ruddy', 'X'), ('lazy', 'X'), (',', '.'), ('and', 'CONJ'), (\"I'm\", 'PRT'), ('getting', 'VERB'), ('on', 'ADP'), ('in', 'ADP'), ('years', 'NOUN'), ('.', '.')], [('It', 'PRON'), ('gets', 'VERB'), ('so', 'ADV'), ('frustrating', 'ADV'), (',', '.'), ('but', 'CONJ'), ('then', 'ADV'), ('again', 'ADV'), ('I', 'PRON'), (\"don't\", 'VERB'), ('know', 'VERB'), ('what', 'DET'), ('I', 'PRON'), ('could', 'VERB'), ('do', 'VERB'), ('if', 'ADP'), ('I', 'PRON'), ('gave', 'VERB'), ('up', 'PRT'), ('racing', 'VERB'), (\"''\", '.'), ('.', '.')], [('Has', 'X'), ('Moss', 'X'), ('no', 'X'), ('stirling', 'X'), ('virtues', 'X'), ('?', '.'), ('?', '.')], [('One', 'NUM'), ('of', 'ADP'), ('Nikita', 'X'), (\"Khrushchev's\", 'X'), ('most', 'X'), ('enthusiastic', 'X'), ('eulogizers', 'X'), (',', '.'), ('the', 'DET'), (\"U.S.S.R.'s\", 'X'), ('daily', 'X'), ('Izvestia', 'X'), (',', '.'), ('enterprisingly', 'X'), ('interviewed', 'X'), ('Red-prone', 'X'), ('Comedian', 'X'), ('Charlie', 'X'), ('Chaplin', 'X'), ('at', 'ADP'), ('his', 'DET'), ('Swiss', 'ADJ'), ('villa', 'NOUN'), (',', '.'), ('where', 'ADV'), ('he', 'PRON'), ('has', 'VERB'), ('been', 'VERB'), ('in', 'ADP'), ('self-exile', 'X'), ('since', 'X'), ('1952', 'X'), ('.', '.')], [('Chaplin', 'X'), (',', '.'), ('71', 'NUM'), (',', '.'), ('who', 'PRON'), ('met', 'VERB'), ('K.', 'NOUN'), ('when', 'ADV'), ('the', 'DET'), ('Soviet', 'NOUN'), ('boss', 'NOUN'), ('visited', 'VERB'), ('England', 'NOUN'), ('in', 'ADP'), ('1956', 'NUM'), (',', '.'), ('confided', 'ADV'), ('that', 'ADP'), ('he', 'PRON'), ('hopes', 'VERB'), ('to', 'PRT'), ('visit', 'VERB'), ('Russia', 'NOUN'), ('some', 'DET'), ('time', 'NOUN'), ('this', 'DET'), ('summer', 'NOUN'), ('because', 'ADV'), ('``', '.'), ('I', 'PRON'), ('have', 'VERB'), ('marveled', 'ADV'), ('at', 'ADP'), ('your', 'DET'), ('grandiose', 'ADJ'), ('experiment', 'NOUN'), ('and', 'CONJ'), ('I', 'PRON'), ('believe', 'VERB'), ('in', 'ADP'), ('your', 'DET'), ('future', 'NOUN'), (\"''\", '.'), ('.', '.')], [('Then', 'X'), ('Charlie', 'X'), ('spooned', 'X'), ('out', 'PRT'), ('some', 'DET'), ('quick', 'ADJ'), ('impressions', 'NOUN'), ('of', 'ADP'), ('the', 'DET'), ('Nikita', 'NOUN'), ('he', 'PRON'), ('had', 'VERB'), ('glimpsed', 'ADV'), (':', '.'), ('``', '.'), ('I', 'PRON'), ('was', 'VERB'), ('captivated', 'ADV'), ('by', 'ADP'), ('his', 'DET'), ('humor', 'NOUN'), (',', '.'), ('frankness', 'NOUN'), ('and', 'CONJ'), ('good', 'ADJ'), ('nature', 'NOUN'), ('and', 'CONJ'), ('by', 'ADP'), ('his', 'DET'), ('kind', 'NOUN'), (',', '.'), ('strong', 'ADJ'), ('and', 'CONJ'), ('somewhat', 'ADV'), ('sly', 'ADJ'), ('face', 'NOUN'), (\"''\", '.'), ('.', '.')], [('G.', 'NOUN'), ('David', 'NOUN'), ('Thompson', 'NOUN'), ('is', 'VERB'), ('one', 'NUM'), ('of', 'ADP'), ('those', 'DET'), ('names', 'NOUN'), ('known', 'VERB'), ('to', 'ADP'), ('the', 'DET'), ('stewards', 'NOUN'), ('of', 'ADP'), ('transatlantic', 'DET'), ('jetliners', 'NOUN'), ('and', 'CONJ'), ('to', 'ADP'), ('doormen', 'NOUN'), ('in', 'ADP'), (\"Europe's\", 'DET'), ('best', 'ADJ'), ('hotels', 'NOUN'), (',', '.'), ('but', 'CONJ'), ('he', 'PRON'), ('is', 'VERB'), ('somewhat', 'ADV'), ('of', 'ADP'), ('an', 'DET'), ('enigma', 'NOUN'), ('to', 'ADP'), ('most', 'ADJ'), ('people', 'NOUN'), ('in', 'ADP'), ('his', 'DET'), ('own', 'ADJ'), ('home', 'NOUN'), ('town', 'NOUN'), ('of', 'ADP'), ('Pittsburgh', 'NOUN'), ('.', '.')]]\n",
      "The tagged version of this sentence from the corpus:\n",
      "[[('Tooling', 'VERB'), ('through', 'ADP'), ('Sydney', 'NOUN'), ('on', 'ADP'), ('his', 'DET'), ('way', 'NOUN'), ('to', 'PRT'), ('race', 'VERB'), ('in', 'ADP'), ('the', 'DET'), ('New', 'ADJ'), ('Zealand', 'NOUN'), ('Grand', 'X'), ('Prix', 'X'), (',', '.'), (\"Britain's\", 'NOUN'), ('balding', 'ADJ'), ('Ace', 'NOUN'), ('Driver', 'NOUN'), ('Stirling', 'NOUN'), ('Moss', 'NOUN'), (',', '.'), ('31', 'NUM'), (',', '.'), ('all', 'PRT'), ('but', 'ADP'), ('smothered', 'VERB'), ('himself', 'PRON'), ('in', 'ADP'), ('his', 'DET'), ('own', 'ADJ'), ('exhaust', 'NOUN'), ('of', 'ADP'), ('self-crimination', 'NOUN'), ('.', '.')], [('``', '.'), ('My', 'DET'), ('taste', 'NOUN'), ('is', 'VERB'), ('gaudy', 'ADJ'), ('.', '.')], [(\"I'm\", 'PRT'), ('useless', 'ADJ'), ('for', 'ADP'), ('anything', 'NOUN'), ('but', 'ADP'), ('racing', 'VERB'), ('cars', 'NOUN'), ('.', '.')], [(\"I'm\", 'PRT'), ('ruddy', 'ADV'), ('lazy', 'ADJ'), (',', '.'), ('and', 'CONJ'), (\"I'm\", 'PRT'), ('getting', 'VERB'), ('on', 'PRT'), ('in', 'ADP'), ('years', 'NOUN'), ('.', '.')], [('It', 'PRON'), ('gets', 'VERB'), ('so', 'ADV'), ('frustrating', 'ADJ'), (',', '.'), ('but', 'CONJ'), ('then', 'ADV'), ('again', 'ADV'), ('I', 'PRON'), (\"don't\", 'VERB'), ('know', 'VERB'), ('what', 'DET'), ('I', 'PRON'), ('could', 'VERB'), ('do', 'VERB'), ('if', 'ADP'), ('I', 'PRON'), ('gave', 'VERB'), ('up', 'PRT'), ('racing', 'VERB'), (\"''\", '.'), ('.', '.')], [('Has', 'VERB'), ('Moss', 'NOUN'), ('no', 'DET'), ('stirling', 'ADJ'), ('virtues', 'NOUN'), ('?', '.'), ('?', '.')], [('One', 'NUM'), ('of', 'ADP'), ('Nikita', 'NOUN'), (\"Khrushchev's\", 'NOUN'), ('most', 'ADV'), ('enthusiastic', 'ADJ'), ('eulogizers', 'NOUN'), (',', '.'), ('the', 'DET'), (\"U.S.S.R.'s\", 'NOUN'), ('daily', 'ADJ'), ('Izvestia', 'NOUN'), (',', '.'), ('enterprisingly', 'ADV'), ('interviewed', 'VERB'), ('Red-prone', 'ADJ'), ('Comedian', 'NOUN'), ('Charlie', 'NOUN'), ('Chaplin', 'NOUN'), ('at', 'ADP'), ('his', 'DET'), ('Swiss', 'ADJ'), ('villa', 'NOUN'), (',', '.'), ('where', 'ADV'), ('he', 'PRON'), ('has', 'VERB'), ('been', 'VERB'), ('in', 'ADP'), ('self-exile', 'NOUN'), ('since', 'ADP'), ('1952', 'NUM'), ('.', '.')], [('Chaplin', 'NOUN'), (',', '.'), ('71', 'NUM'), (',', '.'), ('who', 'PRON'), ('met', 'VERB'), ('K.', 'NOUN'), ('when', 'ADV'), ('the', 'DET'), ('Soviet', 'NOUN'), ('boss', 'NOUN'), ('visited', 'VERB'), ('England', 'NOUN'), ('in', 'ADP'), ('1956', 'NUM'), (',', '.'), ('confided', 'VERB'), ('that', 'ADP'), ('he', 'PRON'), ('hopes', 'VERB'), ('to', 'PRT'), ('visit', 'VERB'), ('Russia', 'NOUN'), ('some', 'DET'), ('time', 'NOUN'), ('this', 'DET'), ('summer', 'NOUN'), ('because', 'ADP'), ('``', '.'), ('I', 'PRON'), ('have', 'VERB'), ('marveled', 'VERB'), ('at', 'ADP'), ('your', 'DET'), ('grandiose', 'ADJ'), ('experiment', 'NOUN'), ('and', 'CONJ'), ('I', 'PRON'), ('believe', 'VERB'), ('in', 'ADP'), ('your', 'DET'), ('future', 'NOUN'), (\"''\", '.'), ('.', '.')], [('Then', 'ADJ'), ('Charlie', 'NOUN'), ('spooned', 'VERB'), ('out', 'PRT'), ('some', 'DET'), ('quick', 'ADJ'), ('impressions', 'NOUN'), ('of', 'ADP'), ('the', 'DET'), ('Nikita', 'NOUN'), ('he', 'PRON'), ('had', 'VERB'), ('glimpsed', 'VERB'), (':', '.'), ('``', '.'), ('I', 'PRON'), ('was', 'VERB'), ('captivated', 'VERB'), ('by', 'ADP'), ('his', 'DET'), ('humor', 'NOUN'), (',', '.'), ('frankness', 'NOUN'), ('and', 'CONJ'), ('good', 'ADJ'), ('nature', 'NOUN'), ('and', 'CONJ'), ('by', 'ADP'), ('his', 'DET'), ('kind', 'ADJ'), (',', '.'), ('strong', 'ADJ'), ('and', 'CONJ'), ('somewhat', 'ADV'), ('sly', 'ADJ'), ('face', 'NOUN'), (\"''\", '.'), ('.', '.')], [('G.', 'NOUN'), ('David', 'NOUN'), ('Thompson', 'NOUN'), ('is', 'VERB'), ('one', 'NUM'), ('of', 'ADP'), ('those', 'DET'), ('names', 'NOUN'), ('known', 'VERB'), ('to', 'ADP'), ('the', 'DET'), ('stewards', 'NOUN'), ('of', 'ADP'), ('transatlantic', 'ADJ'), ('jetliners', 'NOUN'), ('and', 'CONJ'), ('to', 'ADP'), ('doormen', 'NOUN'), ('in', 'ADP'), (\"Europe's\", 'NOUN'), ('best', 'ADJ'), ('hotels', 'NOUN'), (',', '.'), ('but', 'CONJ'), ('he', 'PRON'), ('is', 'VERB'), ('somewhat', 'ADV'), ('of', 'ADP'), ('an', 'DET'), ('enigma', 'NOUN'), ('to', 'ADP'), ('most', 'ADJ'), ('people', 'NOUN'), ('in', 'ADP'), ('his', 'DET'), ('own', 'ADJ'), ('home', 'NOUN'), ('town', 'NOUN'), ('of', 'ADP'), ('Pittsburgh', 'NOUN'), ('.', '.')]]\n",
      "\n",
      "Discussion of the difference:\n",
      "fill me in\n",
      "\n",
      "For Q5:\n",
      "fill me in\n",
      "\n",
      "For Q6:\n",
      "fill me in\n"
     ]
    }
   ],
   "source": [
    "answers()"
   ]
  },
  {
   "cell_type": "code",
   "execution_count": 131,
   "metadata": {},
   "outputs": [
    {
     "data": {
      "text/plain": [
       "['DET', 'NOUN', 'ADP', 'DET', 'NOUN', 'VERB', '.']"
      ]
     },
     "execution_count": 131,
     "metadata": {},
     "output_type": "execute_result"
    }
   ],
   "source": [
    "model.initialise('the')\n",
    "model.tag(['cat','in','the','hat', 'came', 'bcak'])"
   ]
  },
  {
   "cell_type": "code",
   "execution_count": null,
   "metadata": {},
   "outputs": [],
   "source": []
  }
 ],
 "metadata": {
  "kernelspec": {
   "display_name": "Python 3",
   "language": "python",
   "name": "python3"
  },
  "language_info": {
   "codemirror_mode": {
    "name": "ipython",
    "version": 3
   },
   "file_extension": ".py",
   "mimetype": "text/x-python",
   "name": "python",
   "nbconvert_exporter": "python",
   "pygments_lexer": "ipython3",
   "version": "3.6.8"
  }
 },
 "nbformat": 4,
 "nbformat_minor": 2
}
