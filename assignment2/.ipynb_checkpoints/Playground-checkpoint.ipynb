{
 "cells": [
  {
   "cell_type": "code",
   "execution_count": 10,
   "metadata": {},
   "outputs": [],
   "source": [
    "import template\n",
    "from importlib import reload"
   ]
  },
  {
   "cell_type": "code",
   "execution_count": 42,
   "metadata": {},
   "outputs": [],
   "source": [
    "reload(template)\n",
    "from template import *"
   ]
  },
  {
   "cell_type": "code",
   "execution_count": 43,
   "metadata": {},
   "outputs": [],
   "source": [
    "train_data = brown.tagged_sents(categories='news')[:-500]\n",
    "test_data = brown.tagged_sents(categories='news')[-500:]"
   ]
  },
  {
   "cell_type": "code",
   "execution_count": 44,
   "metadata": {},
   "outputs": [],
   "source": [
    "model = HMM(train_data, test_data)\n",
    "model.train()"
   ]
  },
  {
   "cell_type": "code",
   "execution_count": 49,
   "metadata": {},
   "outputs": [
    {
     "ename": "ZeroDivisionError",
     "evalue": "division by zero",
     "output_type": "error",
     "traceback": [
      "\u001b[0;31m---------------------------------------------------------------------------\u001b[0m",
      "\u001b[0;31mZeroDivisionError\u001b[0m                         Traceback (most recent call last)",
      "\u001b[0;32m<ipython-input-49-13be714b9ce3>\u001b[0m in \u001b[0;36m<module>\u001b[0;34m\u001b[0m\n\u001b[1;32m     14\u001b[0m         \u001b[0;32melse\u001b[0m\u001b[0;34m:\u001b[0m\u001b[0;34m\u001b[0m\u001b[0;34m\u001b[0m\u001b[0m\n\u001b[1;32m     15\u001b[0m             \u001b[0;32mif\u001b[0m \u001b[0mincorrect\u001b[0m \u001b[0;34m%\u001b[0m \u001b[0;36m10\u001b[0m \u001b[0;34m==\u001b[0m \u001b[0;36m0\u001b[0m\u001b[0;34m:\u001b[0m\u001b[0;34m\u001b[0m\u001b[0;34m\u001b[0m\u001b[0m\n\u001b[0;32m---> 16\u001b[0;31m                 \u001b[0maccuracy\u001b[0m \u001b[0;34m=\u001b[0m \u001b[0mcorrect\u001b[0m \u001b[0;34m/\u001b[0m \u001b[0;34m(\u001b[0m\u001b[0mcorrect\u001b[0m \u001b[0;34m+\u001b[0m \u001b[0mincorrect\u001b[0m\u001b[0;34m)\u001b[0m\u001b[0;34m\u001b[0m\u001b[0;34m\u001b[0m\u001b[0m\n\u001b[0m\u001b[1;32m     17\u001b[0m                 \u001b[0mprint\u001b[0m\u001b[0;34m(\u001b[0m\u001b[0;34m'Tagging accuracy for test set of %s sentences: %.4f'\u001b[0m\u001b[0;34m%\u001b[0m\u001b[0;34m(\u001b[0m\u001b[0mtest_size\u001b[0m\u001b[0;34m,\u001b[0m\u001b[0maccuracy\u001b[0m\u001b[0;34m)\u001b[0m\u001b[0;34m)\u001b[0m\u001b[0;34m\u001b[0m\u001b[0;34m\u001b[0m\u001b[0m\n\u001b[1;32m     18\u001b[0m                 \u001b[0mprint\u001b[0m\u001b[0;34m(\u001b[0m\u001b[0mincorrect\u001b[0m\u001b[0;34m)\u001b[0m\u001b[0;34m\u001b[0m\u001b[0;34m\u001b[0m\u001b[0m\n",
      "\u001b[0;31mZeroDivisionError\u001b[0m: division by zero"
     ]
    }
   ],
   "source": [
    "correct = 0\n",
    "incorrect = 0\n",
    "for sentence in test_data:\n",
    "    s = [word.lower() for (word, tag) in sentence]\n",
    "    model.initialise(s[0])\n",
    "    tags = model.tag(s[1:])\n",
    "\n",
    "    for ((word,gold),tag) in zip(sentence,tags):\n",
    "        if tag == gold:\n",
    "            correct += 1\n",
    "            print(correct)\n",
    "            if correct % 10 == 0:\n",
    "                print(correct)\n",
    "        else:\n",
    "            incorrect += 1\n",
    "            if incorrect % 10 == 0:\n",
    "                accuracy = correct / (correct + incorrect)\n",
    "                print('Tagging accuracy for test set of %s sentences: %.4f'%(test_size,accuracy))\n",
    "                print(incorrect)\n",
    "accuracy = correct / (correct + incorrect)\n",
    "print('Tagging accuracy for test set of %s sentences: %.4f'%(test_size,accuracy))"
   ]
  },
  {
   "cell_type": "code",
   "execution_count": 48,
   "metadata": {},
   "outputs": [],
   "source": [
    "model.initialise('awerm')\n",
    "t = model.tag(['www', 'asfdasfd', 'asdf'])"
   ]
  },
  {
   "cell_type": "code",
   "execution_count": 7,
   "metadata": {},
   "outputs": [
    {
     "data": {
      "text/plain": [
       "['X', 'X', 'X', '.']"
      ]
     },
     "execution_count": 7,
     "metadata": {},
     "output_type": "execute_result"
    }
   ],
   "source": [
    "t"
   ]
  },
  {
   "cell_type": "code",
   "execution_count": 34,
   "metadata": {
    "scrolled": false
   },
   "outputs": [
    {
     "name": "stdout",
     "output_type": "stream",
     "text": [
      "states: ['DET', 'NOUN', 'ADJ', 'VERB', 'ADP', '.', 'ADV', 'CONJ', 'PRT', 'PRON', 'NUM', 'X']\n",
      "\n",
      "Tagged a trial sentence:\n",
      "  [('the', 'DET'), ('cat', 'NOUN'), ('in', 'ADP'), ('the', 'DET'), ('hat', 'NOUN'), ('came', 'VERB'), ('back', 'ADV')]\n",
      "[[('Tooling', 'VERB'), ('through', 'ADP'), ('Sydney', 'NOUN'), ('on', 'ADP'), ('his', 'DET'), ('way', 'NOUN'), ('to', 'PRT'), ('race', 'VERB'), ('in', 'ADP'), ('the', 'DET'), ('New', 'ADJ'), ('Zealand', 'NOUN'), ('Grand', 'X'), ('Prix', 'X'), (',', '.'), (\"Britain's\", 'NOUN'), ('balding', 'ADJ'), ('Ace', 'NOUN'), ('Driver', 'NOUN'), ('Stirling', 'NOUN'), ('Moss', 'NOUN'), (',', '.'), ('31', 'NUM'), (',', '.'), ('all', 'PRT'), ('but', 'ADP'), ('smothered', 'VERB'), ('himself', 'PRON'), ('in', 'ADP'), ('his', 'DET'), ('own', 'ADJ'), ('exhaust', 'NOUN'), ('of', 'ADP'), ('self-crimination', 'NOUN'), ('.', '.')], [('``', '.'), ('My', 'DET'), ('taste', 'NOUN'), ('is', 'VERB'), ('gaudy', 'ADJ'), ('.', '.')], [(\"I'm\", 'PRT'), ('useless', 'ADJ'), ('for', 'ADP'), ('anything', 'NOUN'), ('but', 'ADP'), ('racing', 'VERB'), ('cars', 'NOUN'), ('.', '.')], [(\"I'm\", 'PRT'), ('ruddy', 'ADV'), ('lazy', 'ADJ'), (',', '.'), ('and', 'CONJ'), (\"I'm\", 'PRT'), ('getting', 'VERB'), ('on', 'PRT'), ('in', 'ADP'), ('years', 'NOUN'), ('.', '.')], [('It', 'PRON'), ('gets', 'VERB'), ('so', 'ADV'), ('frustrating', 'ADJ'), (',', '.'), ('but', 'CONJ'), ('then', 'ADV'), ('again', 'ADV'), ('I', 'PRON'), (\"don't\", 'VERB'), ('know', 'VERB'), ('what', 'DET'), ('I', 'PRON'), ('could', 'VERB'), ('do', 'VERB'), ('if', 'ADP'), ('I', 'PRON'), ('gave', 'VERB'), ('up', 'PRT'), ('racing', 'VERB'), (\"''\", '.'), ('.', '.')], [('Has', 'VERB'), ('Moss', 'NOUN'), ('no', 'DET'), ('stirling', 'ADJ'), ('virtues', 'NOUN'), ('?', '.'), ('?', '.')], [('One', 'NUM'), ('of', 'ADP'), ('Nikita', 'NOUN'), (\"Khrushchev's\", 'NOUN'), ('most', 'ADV'), ('enthusiastic', 'ADJ'), ('eulogizers', 'NOUN'), (',', '.'), ('the', 'DET'), (\"U.S.S.R.'s\", 'NOUN'), ('daily', 'ADJ'), ('Izvestia', 'NOUN'), (',', '.'), ('enterprisingly', 'ADV'), ('interviewed', 'VERB'), ('Red-prone', 'ADJ'), ('Comedian', 'NOUN'), ('Charlie', 'NOUN'), ('Chaplin', 'NOUN'), ('at', 'ADP'), ('his', 'DET'), ('Swiss', 'ADJ'), ('villa', 'NOUN'), (',', '.'), ('where', 'ADV'), ('he', 'PRON'), ('has', 'VERB'), ('been', 'VERB'), ('in', 'ADP'), ('self-exile', 'NOUN'), ('since', 'ADP'), ('1952', 'NUM'), ('.', '.')], [('Chaplin', 'NOUN'), (',', '.'), ('71', 'NUM'), (',', '.'), ('who', 'PRON'), ('met', 'VERB'), ('K.', 'NOUN'), ('when', 'ADV'), ('the', 'DET'), ('Soviet', 'NOUN'), ('boss', 'NOUN'), ('visited', 'VERB'), ('England', 'NOUN'), ('in', 'ADP'), ('1956', 'NUM'), (',', '.'), ('confided', 'VERB'), ('that', 'ADP'), ('he', 'PRON'), ('hopes', 'VERB'), ('to', 'PRT'), ('visit', 'VERB'), ('Russia', 'NOUN'), ('some', 'DET'), ('time', 'NOUN'), ('this', 'DET'), ('summer', 'NOUN'), ('because', 'ADP'), ('``', '.'), ('I', 'PRON'), ('have', 'VERB'), ('marveled', 'VERB'), ('at', 'ADP'), ('your', 'DET'), ('grandiose', 'ADJ'), ('experiment', 'NOUN'), ('and', 'CONJ'), ('I', 'PRON'), ('believe', 'VERB'), ('in', 'ADP'), ('your', 'DET'), ('future', 'NOUN'), (\"''\", '.'), ('.', '.')], [('Then', 'ADJ'), ('Charlie', 'NOUN'), ('spooned', 'VERB'), ('out', 'PRT'), ('some', 'DET'), ('quick', 'ADJ'), ('impressions', 'NOUN'), ('of', 'ADP'), ('the', 'DET'), ('Nikita', 'NOUN'), ('he', 'PRON'), ('had', 'VERB'), ('glimpsed', 'VERB'), (':', '.'), ('``', '.'), ('I', 'PRON'), ('was', 'VERB'), ('captivated', 'VERB'), ('by', 'ADP'), ('his', 'DET'), ('humor', 'NOUN'), (',', '.'), ('frankness', 'NOUN'), ('and', 'CONJ'), ('good', 'ADJ'), ('nature', 'NOUN'), ('and', 'CONJ'), ('by', 'ADP'), ('his', 'DET'), ('kind', 'ADJ'), (',', '.'), ('strong', 'ADJ'), ('and', 'CONJ'), ('somewhat', 'ADV'), ('sly', 'ADJ'), ('face', 'NOUN'), (\"''\", '.'), ('.', '.')], [('G.', 'NOUN'), ('David', 'NOUN'), ('Thompson', 'NOUN'), ('is', 'VERB'), ('one', 'NUM'), ('of', 'ADP'), ('those', 'DET'), ('names', 'NOUN'), ('known', 'VERB'), ('to', 'ADP'), ('the', 'DET'), ('stewards', 'NOUN'), ('of', 'ADP'), ('transatlantic', 'ADJ'), ('jetliners', 'NOUN'), ('and', 'CONJ'), ('to', 'ADP'), ('doormen', 'NOUN'), ('in', 'ADP'), (\"Europe's\", 'NOUN'), ('best', 'ADJ'), ('hotels', 'NOUN'), (',', '.'), ('but', 'CONJ'), ('he', 'PRON'), ('is', 'VERB'), ('somewhat', 'ADV'), ('of', 'ADP'), ('an', 'DET'), ('enigma', 'NOUN'), ('to', 'ADP'), ('most', 'ADJ'), ('people', 'NOUN'), ('in', 'ADP'), ('his', 'DET'), ('own', 'ADJ'), ('home', 'NOUN'), ('town', 'NOUN'), ('of', 'ADP'), ('Pittsburgh', 'NOUN'), ('.', '.')]]\n",
      "[[('Tooling', 'ADV'), ('through', 'ADP'), ('Sydney', 'NOUN'), ('on', 'ADP'), ('his', 'DET'), ('way', 'NOUN'), ('to', 'ADP'), ('race', 'NOUN'), ('in', 'ADP'), ('the', 'DET'), ('New', 'ADJ'), ('Zealand', 'X'), ('Grand', 'X'), ('Prix', 'X'), (',', '.'), (\"Britain's\", 'X'), ('balding', 'X'), ('Ace', 'X'), ('Driver', 'X'), ('Stirling', 'X'), ('Moss', 'X'), (',', '.'), ('31', 'NUM'), (',', '.'), ('all', 'PRT'), ('but', 'CONJ'), ('smothered', 'ADV'), ('himself', 'PRON'), ('in', 'ADP'), ('his', 'DET'), ('own', 'ADJ'), ('exhaust', 'NOUN'), ('of', 'ADP'), ('self-crimination', 'NUM'), ('.', '.')], [('``', '.'), ('My', 'DET'), ('taste', 'NOUN'), ('is', 'VERB'), ('gaudy', 'ADV'), ('.', '.')], [(\"I'm\", 'PRT'), ('useless', 'ADJ'), ('for', 'ADP'), ('anything', 'NOUN'), ('but', 'CONJ'), ('racing', 'ADJ'), ('cars', 'NOUN'), ('.', '.')], [(\"I'm\", 'X'), ('ruddy', 'X'), ('lazy', 'X'), (',', '.'), ('and', 'CONJ'), (\"I'm\", 'PRT'), ('getting', 'VERB'), ('on', 'ADP'), ('in', 'ADP'), ('years', 'NOUN'), ('.', '.')], [('It', 'PRON'), ('gets', 'VERB'), ('so', 'ADV'), ('frustrating', 'ADV'), (',', '.'), ('but', 'CONJ'), ('then', 'ADV'), ('again', 'ADV'), ('I', 'PRON'), (\"don't\", 'VERB'), ('know', 'VERB'), ('what', 'DET'), ('I', 'PRON'), ('could', 'VERB'), ('do', 'VERB'), ('if', 'ADP'), ('I', 'PRON'), ('gave', 'VERB'), ('up', 'PRT'), ('racing', 'VERB'), (\"''\", '.'), ('.', '.')], [('Has', 'VERB'), ('Moss', 'ADP'), ('no', 'DET'), ('stirling', 'X'), ('virtues', 'X'), ('?', '.'), ('?', '.')], [('One', 'NUM'), ('of', 'ADP'), ('Nikita', 'X'), (\"Khrushchev's\", 'X'), ('most', 'X'), ('enthusiastic', 'X'), ('eulogizers', 'X'), (',', '.'), ('the', 'DET'), (\"U.S.S.R.'s\", 'X'), ('daily', 'X'), ('Izvestia', 'X'), (',', '.'), ('enterprisingly', 'X'), ('interviewed', 'X'), ('Red-prone', 'X'), ('Comedian', 'X'), ('Charlie', 'X'), ('Chaplin', 'X'), ('at', 'ADP'), ('his', 'DET'), ('Swiss', 'ADJ'), ('villa', 'NOUN'), (',', '.'), ('where', 'ADV'), ('he', 'PRON'), ('has', 'VERB'), ('been', 'VERB'), ('in', 'ADP'), ('self-exile', 'X'), ('since', 'X'), ('1952', 'X'), ('.', '.')], [('Chaplin', 'PRON'), (',', '.'), ('71', 'NUM'), (',', '.'), ('who', 'PRON'), ('met', 'VERB'), ('K.', 'NOUN'), ('when', 'ADV'), ('the', 'DET'), ('Soviet', 'NOUN'), ('boss', 'NOUN'), ('visited', 'VERB'), ('England', 'NOUN'), ('in', 'ADP'), ('1956', 'NUM'), (',', '.'), ('confided', 'ADV'), ('that', 'ADP'), ('he', 'PRON'), ('hopes', 'VERB'), ('to', 'PRT'), ('visit', 'VERB'), ('Russia', 'NOUN'), ('some', 'DET'), ('time', 'NOUN'), ('this', 'DET'), ('summer', 'NOUN'), ('because', 'ADV'), ('``', '.'), ('I', 'PRON'), ('have', 'VERB'), ('marveled', 'ADV'), ('at', 'ADP'), ('your', 'DET'), ('grandiose', 'ADJ'), ('experiment', 'NOUN'), ('and', 'CONJ'), ('I', 'PRON'), ('believe', 'VERB'), ('in', 'ADP'), ('your', 'DET'), ('future', 'NOUN'), (\"''\", '.'), ('.', '.')], [('Then', 'ADV'), ('Charlie', 'NOUN'), ('spooned', 'VERB'), ('out', 'PRT'), ('some', 'DET'), ('quick', 'ADJ'), ('impressions', 'NOUN'), ('of', 'ADP'), ('the', 'DET'), ('Nikita', 'NOUN'), ('he', 'PRON'), ('had', 'VERB'), ('glimpsed', 'ADV'), (':', '.'), ('``', '.'), ('I', 'PRON'), ('was', 'VERB'), ('captivated', 'ADV'), ('by', 'ADP'), ('his', 'DET'), ('humor', 'NOUN'), (',', '.'), ('frankness', 'NOUN'), ('and', 'CONJ'), ('good', 'ADJ'), ('nature', 'NOUN'), ('and', 'CONJ'), ('by', 'ADP'), ('his', 'DET'), ('kind', 'NOUN'), (',', '.'), ('strong', 'ADJ'), ('and', 'CONJ'), ('somewhat', 'ADV'), ('sly', 'ADJ'), ('face', 'NOUN'), (\"''\", '.'), ('.', '.')], [('G.', 'NOUN'), ('David', 'NOUN'), ('Thompson', 'NOUN'), ('is', 'VERB'), ('one', 'NUM'), ('of', 'ADP'), ('those', 'DET'), ('names', 'NOUN'), ('known', 'VERB'), ('to', 'ADP'), ('the', 'DET'), ('stewards', 'NOUN'), ('of', 'ADP'), ('transatlantic', 'DET'), ('jetliners', 'NOUN'), ('and', 'CONJ'), ('to', 'ADP'), ('doormen', 'NOUN'), ('in', 'ADP'), (\"Europe's\", 'DET'), ('best', 'ADJ'), ('hotels', 'NOUN'), (',', '.'), ('but', 'CONJ'), ('he', 'PRON'), ('is', 'VERB'), ('somewhat', 'ADV'), ('of', 'ADP'), ('an', 'DET'), ('enigma', 'NOUN'), ('to', 'ADP'), ('most', 'ADJ'), ('people', 'NOUN'), ('in', 'ADP'), ('his', 'DET'), ('own', 'ADJ'), ('home', 'NOUN'), ('town', 'NOUN'), ('of', 'ADP'), ('Pittsburgh', 'NOUN'), ('.', '.')]]\n",
      "Tagging accuracy for test set of 500 sentences: 0.8690\n",
      "\n",
      "A tagged-by-your-model version of a sentence:\n",
      "[(\"I'm\", 'PRT'), ('useless', 'ADJ'), ('for', 'ADP'), ('anything', 'NOUN'), ('but', 'CONJ'), ('racing', 'ADJ'), ('cars', 'NOUN'), ('.', '.')]\n",
      "The tagged version of this sentence from the corpus:\n",
      "[(\"I'm\", 'PRT'), ('useless', 'ADJ'), ('for', 'ADP'), ('anything', 'NOUN'), ('but', 'ADP'), ('racing', 'VERB'), ('cars', 'NOUN'), ('.', '.')]\n",
      "\n",
      "Discussion of the difference:\n",
      "fill me in\n",
      "\n",
      "For Q5:\n",
      "fill me in\n",
      "\n",
      "For Q6:\n",
      "fill me in\n"
     ]
    }
   ],
   "source": [
    "answers()"
   ]
  },
  {
   "cell_type": "code",
   "execution_count": 30,
   "metadata": {},
   "outputs": [
    {
     "name": "stdout",
     "output_type": "stream",
     "text": [
      "[91.55517732214378, 89.1917732509123, 89.7724083864021, 87.91534194678357, 93.41077967588936, 82.84885874434825, 87.71408748942268, 99.8750991978973, 88.87962534561004, 97.96471089920423, 86.95888042723423, 94.75509937118638]\n",
      "7\n"
     ]
    },
    {
     "data": {
      "text/plain": [
       "['DET', 'NOUN', 'ADP', 'DET', 'NOUN', 'VERB', '.']"
      ]
     },
     "execution_count": 30,
     "metadata": {},
     "output_type": "execute_result"
    }
   ],
   "source": [
    "model.initialise('the')\n",
    "model.tag(['cat','in','the','hat', 'came', 'bcak'])"
   ]
  },
  {
   "cell_type": "code",
   "execution_count": 50,
   "metadata": {},
   "outputs": [],
   "source": [
    "model.initialise('attack')"
   ]
  },
  {
   "cell_type": "code",
   "execution_count": 27,
   "metadata": {
    "collapsed": true
   },
   "outputs": [
    {
     "data": {
      "text/plain": [
       "[[2.883960495502161,\n",
       "  23.284441789896356,\n",
       "  23.857036721737963,\n",
       "  25.02681208150389,\n",
       "  23.515654098519164,\n",
       "  23.46030363527954,\n",
       "  22.373836285910734,\n",
       "  22.74800532089573,\n",
       "  22.83310969563389,\n",
       "  21.17357777534607,\n",
       "  23.44272282572672,\n",
       "  23.741687440008114],\n",
       " [30.50694868384696,\n",
       "  24.918251373594813,\n",
       "  24.149495044678684,\n",
       "  27.406916451337686,\n",
       "  29.92014752622385,\n",
       "  29.571491066064446,\n",
       "  27.292475768969584,\n",
       "  33.06652603661989,\n",
       "  29.699177685354798,\n",
       "  28.200106762653082,\n",
       "  26.156610626119736,\n",
       "  25.93314324833884],\n",
       " [49.825468421659565,\n",
       "  46.04991623780528,\n",
       "  47.30815686952771,\n",
       "  48.10280401076996,\n",
       "  29.810308810278283,\n",
       "  46.946245437411264,\n",
       "  48.70406039991616,\n",
       "  47.17725634727182,\n",
       "  35.66580075903011,\n",
       "  49.12031246999632,\n",
       "  47.393084026633446,\n",
       "  39.51314204030376],\n",
       " [31.813115640026346,\n",
       "  52.92949906842151,\n",
       "  52.72820840930012,\n",
       "  54.830928944016065,\n",
       "  55.73321551170622,\n",
       "  56.76045652149486,\n",
       "  54.537609814836564,\n",
       "  57.522915930458325,\n",
       "  54.252840096633975,\n",
       "  52.52519422825348,\n",
       "  51.46313304061708,\n",
       "  53.09314083226869],\n",
       " [59.436103828371145,\n",
       "  46.196354826940066,\n",
       "  53.07865018920287,\n",
       "  56.33607159586187,\n",
       "  58.84930267074803,\n",
       "  58.50064621058863,\n",
       "  56.22163091349377,\n",
       "  61.99568118114408,\n",
       "  58.628332829878985,\n",
       "  57.129261907177266,\n",
       "  55.08576577064392,\n",
       "  54.862298392863025],\n",
       " [72.50693682456273,\n",
       "  69.51586638328013,\n",
       "  71.24028514397646,\n",
       "  57.41476255076961,\n",
       "  68.50624006107181,\n",
       "  68.22434889075652,\n",
       "  69.98216385326141,\n",
       "  68.45535980061707,\n",
       "  69.71243445837892,\n",
       "  70.39841592334157,\n",
       "  70.35483821843006,\n",
       "  68.44229718482795],\n",
       " [79.8333145210915,\n",
       "  81.78915380479152,\n",
       "  80.94302933323664,\n",
       "  79.996847628268,\n",
       "  80.00449835724015,\n",
       "  81.39795341911653,\n",
       "  79.37924254335235,\n",
       "  81.99695246641663,\n",
       "  78.93908894998239,\n",
       "  80.17867105088409,\n",
       "  80.83075308864028,\n",
       "  82.02229597679288]]"
      ]
     },
     "execution_count": 27,
     "metadata": {},
     "output_type": "execute_result"
    }
   ],
   "source": [
    "model.viterbi"
   ]
  },
  {
   "cell_type": "code",
   "execution_count": 54,
   "metadata": {},
   "outputs": [
    {
     "data": {
      "text/plain": [
       "82.84885874434825"
      ]
     },
     "execution_count": 54,
     "metadata": {},
     "output_type": "execute_result"
    }
   ],
   "source": [
    "model.get_viterbi_value('.', 7)"
   ]
  },
  {
   "cell_type": "code",
   "execution_count": 30,
   "metadata": {},
   "outputs": [
    {
     "data": {
      "text/plain": [
       "-16.793195903768698"
      ]
     },
     "execution_count": 30,
     "metadata": {},
     "output_type": "execute_result"
    }
   ],
   "source": [
    "model.tlprob('<s>', 'VERB') + model.elprob('VERB', 'attack')"
   ]
  },
  {
   "cell_type": "code",
   "execution_count": 44,
   "metadata": {},
   "outputs": [
    {
     "data": {
      "text/plain": [
       "['DET',\n",
       " 'NOUN',\n",
       " 'ADJ',\n",
       " 'VERB',\n",
       " 'ADP',\n",
       " '.',\n",
       " 'ADV',\n",
       " 'CONJ',\n",
       " 'PRT',\n",
       " 'PRON',\n",
       " 'NUM',\n",
       " 'X']"
      ]
     },
     "execution_count": 44,
     "metadata": {},
     "output_type": "execute_result"
    }
   ],
   "source": [
    "model.states"
   ]
  },
  {
   "cell_type": "code",
   "execution_count": 56,
   "metadata": {},
   "outputs": [
    {
     "data": {
      "text/plain": [
       "list"
      ]
     },
     "execution_count": 56,
     "metadata": {},
     "output_type": "execute_result"
    }
   ],
   "source": [
    "type(list(range(3)))"
   ]
  },
  {
   "cell_type": "code",
   "execution_count": 1,
   "metadata": {},
   "outputs": [],
   "source": [
    "m = [0] * 10"
   ]
  },
  {
   "cell_type": "code",
   "execution_count": 2,
   "metadata": {},
   "outputs": [
    {
     "data": {
      "text/plain": [
       "[0, 0, 0, 0, 5, 0, 0, 0, 0, 0]"
      ]
     },
     "execution_count": 2,
     "metadata": {},
     "output_type": "execute_result"
    }
   ],
   "source": [
    "m[4] = 5\n",
    "m"
   ]
  },
  {
   "cell_type": "code",
   "execution_count": 19,
   "metadata": {},
   "outputs": [],
   "source": [
    "model.initialise('The')"
   ]
  },
  {
   "cell_type": "code",
   "execution_count": 20,
   "metadata": {},
   "outputs": [
    {
     "data": {
      "text/plain": [
       "['DET', 'NOUN', 'DET', '.', '.']"
      ]
     },
     "execution_count": 20,
     "metadata": {},
     "output_type": "execute_result"
    }
   ],
   "source": [
    "model.tag('cat')\n",
    "model.tag('is')\n",
    "model.tag('eating')\n",
    "model.tag('fish')\n"
   ]
  },
  {
   "cell_type": "code",
   "execution_count": 35,
   "metadata": {},
   "outputs": [
    {
     "data": {
      "text/plain": [
       "-19.178518971478535"
      ]
     },
     "execution_count": 35,
     "metadata": {},
     "output_type": "execute_result"
    }
   ],
   "source": [
    "model.elprob('ADJ', 'gaudy')"
   ]
  },
  {
   "cell_type": "code",
   "execution_count": 36,
   "metadata": {},
   "outputs": [
    {
     "data": {
      "text/plain": [
       "-18.15227989016495"
      ]
     },
     "execution_count": 36,
     "metadata": {},
     "output_type": "execute_result"
    }
   ],
   "source": [
    "model.elprob('ADV', 'gaudy')"
   ]
  },
  {
   "cell_type": "code",
   "execution_count": 41,
   "metadata": {},
   "outputs": [
    {
     "data": {
      "text/plain": [
       "\"The HMM model can only capture 2-word history, not long-range dependencies. 'gaudy' is for 'taste', but HMM model only knows it follows a VERB, so tags it as ADV rather than ADJ. Because ADV is more likely follows a VERB, and 'gaudy' has similar cost being ADJ or ADV.\""
      ]
     },
     "execution_count": 41,
     "metadata": {},
     "output_type": "execute_result"
    }
   ],
   "source": [
    "\"The HMM model can only capture 2-word history, not long-range dependencies. 'gaudy' is for 'taste', but HMM model only knows it follows a VERB, so tags it as ADV rather than ADJ. Because ADV is more likely follows a VERB, and 'gaudy' has similar cost being ADJ or ADV.\"[0:280]"
   ]
  },
  {
   "cell_type": "code",
   "execution_count": null,
   "metadata": {},
   "outputs": [],
   "source": []
  }
 ],
 "metadata": {
  "kernelspec": {
   "display_name": "Python 3",
   "language": "python",
   "name": "python3"
  },
  "language_info": {
   "codemirror_mode": {
    "name": "ipython",
    "version": 3
   },
   "file_extension": ".py",
   "mimetype": "text/x-python",
   "name": "python",
   "nbconvert_exporter": "python",
   "pygments_lexer": "ipython3",
   "version": "3.6.8"
  }
 },
 "nbformat": 4,
 "nbformat_minor": 2
}
